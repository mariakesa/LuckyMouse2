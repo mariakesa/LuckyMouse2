{
 "cells": [
  {
   "cell_type": "code",
   "execution_count": null,
   "id": "9a148c95",
   "metadata": {},
   "outputs": [],
   "source": [
    "/home/maria/LuckyMouse2/mo/logreg_coefficients_sig_neurons.npy"
   ]
  }
 ],
 "metadata": {
  "language_info": {
   "name": "python"
  }
 },
 "nbformat": 4,
 "nbformat_minor": 5
}
