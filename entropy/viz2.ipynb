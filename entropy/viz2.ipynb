{
 "cells": [
  {
   "cell_type": "code",
   "execution_count": 1,
   "id": "3048c233",
   "metadata": {},
   "outputs": [
    {
     "data": {
      "application/vnd.jupyter.widget-view+json": {
       "model_id": "54f4a071bc974764b98420b36d0dcb57",
       "version_major": 2,
       "version_minor": 0
      },
      "text/plain": [
       "FigureWidget({\n",
       "    'data': [{'marker': {'color': 'lightgreen'},\n",
       "              'type': 'bar',\n",
       "              'uid': '32e380fc-b646-4b94-8760-74f5af77dae0',\n",
       "              'x': [0.07–0.09, 0.09–0.11, 0.11–0.14, 0.14–0.16, 0.16–0.18,\n",
       "                    0.18–0.21, 0.21–0.23, 0.23–0.25, 0.25–0.28, 0.28–0.30,\n",
       "                    0.30–0.32, 0.32–0.35, 0.35–0.37, 0.37–0.39, 0.39–0.42,\n",
       "                    0.42–0.44, 0.44–0.46, 0.46–0.48, 0.48–0.51, 0.51–0.53,\n",
       "                    0.53–0.55, 0.55–0.58, 0.58–0.60, 0.60–0.62, 0.62–0.65,\n",
       "                    0.65–0.67, 0.67–0.69, 0.69–0.72, 0.72–0.74, 0.74–0.76],\n",
       "              'y': [31, 139, 245, 380, 451, 572, 711, 1000, 1465, 2031, 2827,\n",
       "                    3700, 4830, 4915, 4468, 3560, 2736, 2018, 1214, 828, 503, 262,\n",
       "                    139, 88, 52, 20, 14, 2, 5, 2]}],\n",
       "    'layout': {'bargap': 0.1,\n",
       "               'template': '...',\n",
       "               'title': {'text': 'Total Variation Distance from Uniform Distribution (per Neuron)'},\n",
       "               'xaxis': {'tickangle': 45, 'title': {'text': 'TV Distance Bin'}},\n",
       "               'yaxis': {'title': {'text': 'Number of Neurons'}}}\n",
       "})"
      ]
     },
     "metadata": {},
     "output_type": "display_data"
    },
    {
     "data": {
      "application/vnd.jupyter.widget-view+json": {
       "model_id": "332817c3da02418fb8ce4eac680d6860",
       "version_major": 2,
       "version_minor": 0
      },
      "text/plain": [
       "Output()"
      ]
     },
     "metadata": {},
     "output_type": "display_data"
    }
   ],
   "source": [
    "import numpy as np\n",
    "import plotly.graph_objects as go\n",
    "import ipywidgets as widgets\n",
    "from IPython.display import display, clear_output\n",
    "\n",
    "# Load data\n",
    "dat = np.load('/home/maria/LuckyMouse2/pixel_transformer_neuro/data/processed/hybrid_neural_responses_reduced.npy')\n",
    "num_neurons, num_images = dat.shape\n",
    "\n",
    "# Convert to probabilities\n",
    "prob_matrix = dat / 50.0\n",
    "epsilon = 1e-10\n",
    "prob_matrix_safe = prob_matrix + epsilon\n",
    "\n",
    "# Compute TV distance from uniform\n",
    "uniform_dist = np.full((num_images,), 1.0 / num_images)\n",
    "tv_dists = []\n",
    "for neuron_probs in prob_matrix_safe:\n",
    "    neuron_dist = neuron_probs / np.sum(neuron_probs)\n",
    "    tv = 0.5 * np.sum(np.abs(uniform_dist - neuron_dist))\n",
    "    tv_dists.append(tv)\n",
    "tv_dists = np.array(tv_dists)\n",
    "\n",
    "# Bin setup\n",
    "num_bins = 30\n",
    "bin_edges = np.histogram_bin_edges(tv_dists, bins=num_bins)\n",
    "bin_indices = np.digitize(tv_dists, bins=bin_edges) - 1\n",
    "\n",
    "bin_to_neuron_indices = {i: [] for i in range(num_bins)}\n",
    "for idx, bin_idx in enumerate(bin_indices):\n",
    "    if 0 <= bin_idx < num_bins:\n",
    "        bin_to_neuron_indices[bin_idx].append(idx)\n",
    "\n",
    "bin_counts = [len(bin_to_neuron_indices[i]) for i in range(num_bins)]\n",
    "bin_labels = [f\"{bin_edges[i]:.2f}–{bin_edges[i+1]:.2f}\" for i in range(num_bins)]\n",
    "\n",
    "# Output widget for detail plot\n",
    "output_plot = widgets.Output()\n",
    "\n",
    "def on_bar_click(trace, points, state):\n",
    "    with output_plot:\n",
    "        clear_output(wait=True)\n",
    "        if points.point_inds:\n",
    "            bin_idx = points.point_inds[0]\n",
    "            neuron_ids = bin_to_neuron_indices.get(bin_idx, [])\n",
    "            if neuron_ids:\n",
    "                neuron_id = neuron_ids[0]\n",
    "                sorted_events = np.sort(dat[neuron_id])\n",
    "                fig_detail = go.Figure()\n",
    "                fig_detail.add_trace(go.Bar(\n",
    "                    x=list(range(len(sorted_events))),\n",
    "                    y=sorted_events,\n",
    "                    marker_color='darkgreen'\n",
    "                ))\n",
    "                fig_detail.update_layout(\n",
    "                    title=f\"Sorted Event Counts for First Neuron in TV Bin {bin_labels[bin_idx]}\",\n",
    "                    xaxis_title=\"Sorted Stimulus Index\",\n",
    "                    yaxis_title=\"Event Count\",\n",
    "                    height=300\n",
    "                )\n",
    "                fig_detail.show()\n",
    "            else:\n",
    "                print(\"No neurons in this bin.\")\n",
    "\n",
    "# TV histogram\n",
    "fig = go.FigureWidget(\n",
    "    data=[go.Bar(x=bin_labels, y=bin_counts, marker_color='lightgreen')],\n",
    "    layout=dict(\n",
    "        title=\"Total Variation Distance from Uniform Distribution (per Neuron)\",\n",
    "        xaxis_title=\"TV Distance Bin\",\n",
    "        yaxis_title=\"Number of Neurons\",\n",
    "        xaxis_tickangle=45,\n",
    "        bargap=0.1\n",
    "    )\n",
    ")\n",
    "\n",
    "fig.data[0].on_click(on_bar_click)\n",
    "\n",
    "# Display both\n",
    "display(fig)\n",
    "display(output_plot)\n"
   ]
  }
 ],
 "metadata": {
  "kernelspec": {
   "display_name": "Python (Global 3.10)",
   "language": "python",
   "name": "global-310"
  },
  "language_info": {
   "codemirror_mode": {
    "name": "ipython",
    "version": 3
   },
   "file_extension": ".py",
   "mimetype": "text/x-python",
   "name": "python",
   "nbconvert_exporter": "python",
   "pygments_lexer": "ipython3",
   "version": "3.12.3"
  }
 },
 "nbformat": 4,
 "nbformat_minor": 5
}
